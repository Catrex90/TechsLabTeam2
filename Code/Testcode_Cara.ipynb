{
 "cells": [
  {
   "cell_type": "code",
   "execution_count": 21,
   "metadata": {},
   "outputs": [
    {
     "name": "stderr",
     "output_type": "stream",
     "text": [
      "/var/folders/pl/4hv3k75x16l4274btx10gcsc0000gn/T/ipykernel_30492/396872225.py:2: DtypeWarning: Columns (8,27) have mixed types. Specify dtype option on import or set low_memory=False.\n",
      "  df = pd.read_csv(\"/Users/carareusch/Desktop/TechsLabTeam2/TechsLabTeam2/Test/2010-2019 Ozon NRW Stundenmittelwert.csv\", encoding=\"ISO-8859-1\", sep=';', skiprows=2)\n"
     ]
    }
   ],
   "source": [
    "import pandas as pd\n",
    "df = pd.read_csv(\"/Users/carareusch/Desktop/TechsLabTeam2/TechsLabTeam2/Test/2010-2019 Ozon NRW Stundenmittelwert.csv\", encoding=\"ISO-8859-1\", sep=';', skiprows=2)\n",
    "\n",
    "#df.drop([0,1],inplace=True)\n",
    "# Spaltennamen ab der dritten Spalte ändern\n",
    "df.columns = df.columns[:2].tolist() + [col.split()[0][:4].upper() for col in df.columns[2:]]\n",
    "\n",
    "df.head(50)\n",
    "\n",
    "output_file_path = \"/Users/carareusch/Desktop/TechsLabTeam2/TechsLabTeam2/Test/2010-2019 Ozon Test Neu.csv\"\n",
    "\n",
    "df.to_csv(\"/Users/carareusch/Desktop/TechsLabTeam2/TechsLabTeam2/Test/2010-2019 Ozon Test Neu.csv\", index=False)"
   ]
  }
 ],
 "metadata": {
  "kernelspec": {
   "display_name": "Python 3",
   "language": "python",
   "name": "python3"
  },
  "language_info": {
   "codemirror_mode": {
    "name": "ipython",
    "version": 3
   },
   "file_extension": ".py",
   "mimetype": "text/x-python",
   "name": "python",
   "nbconvert_exporter": "python",
   "pygments_lexer": "ipython3",
   "version": "3.12.1"
  }
 },
 "nbformat": 4,
 "nbformat_minor": 2
}
