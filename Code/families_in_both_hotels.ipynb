{
 "cells": [
  {
   "cell_type": "code",
   "execution_count": 1,
   "metadata": {},
   "outputs": [
    {
     "name": "stderr",
     "output_type": "stream",
     "text": [
      "/var/folders/pl/4hv3k75x16l4274btx10gcsc0000gn/T/ipykernel_1939/18662691.py:1: DeprecationWarning: \n",
      "Pyarrow will become a required dependency of pandas in the next major release of pandas (pandas 3.0),\n",
      "(to allow more performant data types, such as the Arrow string type, and better interoperability with other libraries)\n",
      "but was not found to be installed on your system.\n",
      "If this would cause problems for you,\n",
      "please provide us feedback at https://github.com/pandas-dev/pandas/issues/54466\n",
      "        \n",
      "  import pandas as pd\n"
     ]
    }
   ],
   "source": [
    "import pandas as pd\n",
    "import matplotlib.pyplot as plt\n",
    "import numpy as np\n",
    "import plotly.graph_objects as go"
   ]
  },
  {
   "cell_type": "code",
   "execution_count": 2,
   "metadata": {},
   "outputs": [
    {
     "data": {
      "text/html": [
       "<div>\n",
       "<style scoped>\n",
       "    .dataframe tbody tr th:only-of-type {\n",
       "        vertical-align: middle;\n",
       "    }\n",
       "\n",
       "    .dataframe tbody tr th {\n",
       "        vertical-align: top;\n",
       "    }\n",
       "\n",
       "    .dataframe thead th {\n",
       "        text-align: right;\n",
       "    }\n",
       "</style>\n",
       "<table border=\"1\" class=\"dataframe\">\n",
       "  <thead>\n",
       "    <tr style=\"text-align: right;\">\n",
       "      <th></th>\n",
       "      <th>hotel</th>\n",
       "      <th>is_canceled</th>\n",
       "      <th>lead_time</th>\n",
       "      <th>arrival_date_year</th>\n",
       "      <th>arrival_date_month</th>\n",
       "      <th>arrival_date_week_number</th>\n",
       "      <th>arrival_date_day_of_month</th>\n",
       "      <th>stays_in_weekend_nights</th>\n",
       "      <th>stays_in_week_nights</th>\n",
       "      <th>adults</th>\n",
       "      <th>children</th>\n",
       "      <th>babies</th>\n",
       "      <th>meal</th>\n",
       "      <th>country</th>\n",
       "      <th>market_segment</th>\n",
       "      <th>distribution_channel</th>\n",
       "      <th>is_repeated_guest</th>\n",
       "      <th>previous_cancellations</th>\n",
       "      <th>previous_bookings_not_canceled</th>\n",
       "      <th>reserved_room_type</th>\n",
       "      <th>assigned_room_type</th>\n",
       "      <th>booking_changes</th>\n",
       "      <th>deposit_type</th>\n",
       "      <th>agent</th>\n",
       "      <th>company</th>\n",
       "      <th>days_in_waiting_list</th>\n",
       "      <th>customer_type</th>\n",
       "      <th>adr</th>\n",
       "      <th>required_car_parking_spaces</th>\n",
       "      <th>total_of_special_requests</th>\n",
       "      <th>reservation_status</th>\n",
       "      <th>reservation_status_date</th>\n",
       "    </tr>\n",
       "  </thead>\n",
       "  <tbody>\n",
       "    <tr>\n",
       "      <th>0</th>\n",
       "      <td>Resort Hotel</td>\n",
       "      <td>0</td>\n",
       "      <td>342</td>\n",
       "      <td>2015</td>\n",
       "      <td>July</td>\n",
       "      <td>27</td>\n",
       "      <td>1</td>\n",
       "      <td>0</td>\n",
       "      <td>0</td>\n",
       "      <td>2</td>\n",
       "      <td>0.0</td>\n",
       "      <td>0</td>\n",
       "      <td>BB</td>\n",
       "      <td>PRT</td>\n",
       "      <td>Direct</td>\n",
       "      <td>Direct</td>\n",
       "      <td>0</td>\n",
       "      <td>0</td>\n",
       "      <td>0</td>\n",
       "      <td>C</td>\n",
       "      <td>C</td>\n",
       "      <td>3</td>\n",
       "      <td>No Deposit</td>\n",
       "      <td>NaN</td>\n",
       "      <td>NaN</td>\n",
       "      <td>0</td>\n",
       "      <td>Transient</td>\n",
       "      <td>0.0</td>\n",
       "      <td>0</td>\n",
       "      <td>0</td>\n",
       "      <td>Check-Out</td>\n",
       "      <td>2015-07-01</td>\n",
       "    </tr>\n",
       "    <tr>\n",
       "      <th>1</th>\n",
       "      <td>Resort Hotel</td>\n",
       "      <td>0</td>\n",
       "      <td>737</td>\n",
       "      <td>2015</td>\n",
       "      <td>July</td>\n",
       "      <td>27</td>\n",
       "      <td>1</td>\n",
       "      <td>0</td>\n",
       "      <td>0</td>\n",
       "      <td>2</td>\n",
       "      <td>0.0</td>\n",
       "      <td>0</td>\n",
       "      <td>BB</td>\n",
       "      <td>PRT</td>\n",
       "      <td>Direct</td>\n",
       "      <td>Direct</td>\n",
       "      <td>0</td>\n",
       "      <td>0</td>\n",
       "      <td>0</td>\n",
       "      <td>C</td>\n",
       "      <td>C</td>\n",
       "      <td>4</td>\n",
       "      <td>No Deposit</td>\n",
       "      <td>NaN</td>\n",
       "      <td>NaN</td>\n",
       "      <td>0</td>\n",
       "      <td>Transient</td>\n",
       "      <td>0.0</td>\n",
       "      <td>0</td>\n",
       "      <td>0</td>\n",
       "      <td>Check-Out</td>\n",
       "      <td>2015-07-01</td>\n",
       "    </tr>\n",
       "    <tr>\n",
       "      <th>2</th>\n",
       "      <td>Resort Hotel</td>\n",
       "      <td>0</td>\n",
       "      <td>7</td>\n",
       "      <td>2015</td>\n",
       "      <td>July</td>\n",
       "      <td>27</td>\n",
       "      <td>1</td>\n",
       "      <td>0</td>\n",
       "      <td>1</td>\n",
       "      <td>1</td>\n",
       "      <td>0.0</td>\n",
       "      <td>0</td>\n",
       "      <td>BB</td>\n",
       "      <td>GBR</td>\n",
       "      <td>Direct</td>\n",
       "      <td>Direct</td>\n",
       "      <td>0</td>\n",
       "      <td>0</td>\n",
       "      <td>0</td>\n",
       "      <td>A</td>\n",
       "      <td>C</td>\n",
       "      <td>0</td>\n",
       "      <td>No Deposit</td>\n",
       "      <td>NaN</td>\n",
       "      <td>NaN</td>\n",
       "      <td>0</td>\n",
       "      <td>Transient</td>\n",
       "      <td>75.0</td>\n",
       "      <td>0</td>\n",
       "      <td>0</td>\n",
       "      <td>Check-Out</td>\n",
       "      <td>2015-07-02</td>\n",
       "    </tr>\n",
       "    <tr>\n",
       "      <th>3</th>\n",
       "      <td>Resort Hotel</td>\n",
       "      <td>0</td>\n",
       "      <td>13</td>\n",
       "      <td>2015</td>\n",
       "      <td>July</td>\n",
       "      <td>27</td>\n",
       "      <td>1</td>\n",
       "      <td>0</td>\n",
       "      <td>1</td>\n",
       "      <td>1</td>\n",
       "      <td>0.0</td>\n",
       "      <td>0</td>\n",
       "      <td>BB</td>\n",
       "      <td>GBR</td>\n",
       "      <td>Corporate</td>\n",
       "      <td>Corporate</td>\n",
       "      <td>0</td>\n",
       "      <td>0</td>\n",
       "      <td>0</td>\n",
       "      <td>A</td>\n",
       "      <td>A</td>\n",
       "      <td>0</td>\n",
       "      <td>No Deposit</td>\n",
       "      <td>304.0</td>\n",
       "      <td>NaN</td>\n",
       "      <td>0</td>\n",
       "      <td>Transient</td>\n",
       "      <td>75.0</td>\n",
       "      <td>0</td>\n",
       "      <td>0</td>\n",
       "      <td>Check-Out</td>\n",
       "      <td>2015-07-02</td>\n",
       "    </tr>\n",
       "    <tr>\n",
       "      <th>4</th>\n",
       "      <td>Resort Hotel</td>\n",
       "      <td>0</td>\n",
       "      <td>14</td>\n",
       "      <td>2015</td>\n",
       "      <td>July</td>\n",
       "      <td>27</td>\n",
       "      <td>1</td>\n",
       "      <td>0</td>\n",
       "      <td>2</td>\n",
       "      <td>2</td>\n",
       "      <td>0.0</td>\n",
       "      <td>0</td>\n",
       "      <td>BB</td>\n",
       "      <td>GBR</td>\n",
       "      <td>Online TA</td>\n",
       "      <td>TA/TO</td>\n",
       "      <td>0</td>\n",
       "      <td>0</td>\n",
       "      <td>0</td>\n",
       "      <td>A</td>\n",
       "      <td>A</td>\n",
       "      <td>0</td>\n",
       "      <td>No Deposit</td>\n",
       "      <td>240.0</td>\n",
       "      <td>NaN</td>\n",
       "      <td>0</td>\n",
       "      <td>Transient</td>\n",
       "      <td>98.0</td>\n",
       "      <td>0</td>\n",
       "      <td>1</td>\n",
       "      <td>Check-Out</td>\n",
       "      <td>2015-07-03</td>\n",
       "    </tr>\n",
       "    <tr>\n",
       "      <th>5</th>\n",
       "      <td>Resort Hotel</td>\n",
       "      <td>0</td>\n",
       "      <td>14</td>\n",
       "      <td>2015</td>\n",
       "      <td>July</td>\n",
       "      <td>27</td>\n",
       "      <td>1</td>\n",
       "      <td>0</td>\n",
       "      <td>2</td>\n",
       "      <td>2</td>\n",
       "      <td>0.0</td>\n",
       "      <td>0</td>\n",
       "      <td>BB</td>\n",
       "      <td>GBR</td>\n",
       "      <td>Online TA</td>\n",
       "      <td>TA/TO</td>\n",
       "      <td>0</td>\n",
       "      <td>0</td>\n",
       "      <td>0</td>\n",
       "      <td>A</td>\n",
       "      <td>A</td>\n",
       "      <td>0</td>\n",
       "      <td>No Deposit</td>\n",
       "      <td>240.0</td>\n",
       "      <td>NaN</td>\n",
       "      <td>0</td>\n",
       "      <td>Transient</td>\n",
       "      <td>98.0</td>\n",
       "      <td>0</td>\n",
       "      <td>1</td>\n",
       "      <td>Check-Out</td>\n",
       "      <td>2015-07-03</td>\n",
       "    </tr>\n",
       "    <tr>\n",
       "      <th>6</th>\n",
       "      <td>Resort Hotel</td>\n",
       "      <td>0</td>\n",
       "      <td>0</td>\n",
       "      <td>2015</td>\n",
       "      <td>July</td>\n",
       "      <td>27</td>\n",
       "      <td>1</td>\n",
       "      <td>0</td>\n",
       "      <td>2</td>\n",
       "      <td>2</td>\n",
       "      <td>0.0</td>\n",
       "      <td>0</td>\n",
       "      <td>BB</td>\n",
       "      <td>PRT</td>\n",
       "      <td>Direct</td>\n",
       "      <td>Direct</td>\n",
       "      <td>0</td>\n",
       "      <td>0</td>\n",
       "      <td>0</td>\n",
       "      <td>C</td>\n",
       "      <td>C</td>\n",
       "      <td>0</td>\n",
       "      <td>No Deposit</td>\n",
       "      <td>NaN</td>\n",
       "      <td>NaN</td>\n",
       "      <td>0</td>\n",
       "      <td>Transient</td>\n",
       "      <td>107.0</td>\n",
       "      <td>0</td>\n",
       "      <td>0</td>\n",
       "      <td>Check-Out</td>\n",
       "      <td>2015-07-03</td>\n",
       "    </tr>\n",
       "    <tr>\n",
       "      <th>7</th>\n",
       "      <td>Resort Hotel</td>\n",
       "      <td>0</td>\n",
       "      <td>9</td>\n",
       "      <td>2015</td>\n",
       "      <td>July</td>\n",
       "      <td>27</td>\n",
       "      <td>1</td>\n",
       "      <td>0</td>\n",
       "      <td>2</td>\n",
       "      <td>2</td>\n",
       "      <td>0.0</td>\n",
       "      <td>0</td>\n",
       "      <td>FB</td>\n",
       "      <td>PRT</td>\n",
       "      <td>Direct</td>\n",
       "      <td>Direct</td>\n",
       "      <td>0</td>\n",
       "      <td>0</td>\n",
       "      <td>0</td>\n",
       "      <td>C</td>\n",
       "      <td>C</td>\n",
       "      <td>0</td>\n",
       "      <td>No Deposit</td>\n",
       "      <td>303.0</td>\n",
       "      <td>NaN</td>\n",
       "      <td>0</td>\n",
       "      <td>Transient</td>\n",
       "      <td>103.0</td>\n",
       "      <td>0</td>\n",
       "      <td>1</td>\n",
       "      <td>Check-Out</td>\n",
       "      <td>2015-07-03</td>\n",
       "    </tr>\n",
       "    <tr>\n",
       "      <th>8</th>\n",
       "      <td>Resort Hotel</td>\n",
       "      <td>1</td>\n",
       "      <td>85</td>\n",
       "      <td>2015</td>\n",
       "      <td>July</td>\n",
       "      <td>27</td>\n",
       "      <td>1</td>\n",
       "      <td>0</td>\n",
       "      <td>3</td>\n",
       "      <td>2</td>\n",
       "      <td>0.0</td>\n",
       "      <td>0</td>\n",
       "      <td>BB</td>\n",
       "      <td>PRT</td>\n",
       "      <td>Online TA</td>\n",
       "      <td>TA/TO</td>\n",
       "      <td>0</td>\n",
       "      <td>0</td>\n",
       "      <td>0</td>\n",
       "      <td>A</td>\n",
       "      <td>A</td>\n",
       "      <td>0</td>\n",
       "      <td>No Deposit</td>\n",
       "      <td>240.0</td>\n",
       "      <td>NaN</td>\n",
       "      <td>0</td>\n",
       "      <td>Transient</td>\n",
       "      <td>82.0</td>\n",
       "      <td>0</td>\n",
       "      <td>1</td>\n",
       "      <td>Canceled</td>\n",
       "      <td>2015-05-06</td>\n",
       "    </tr>\n",
       "    <tr>\n",
       "      <th>9</th>\n",
       "      <td>Resort Hotel</td>\n",
       "      <td>1</td>\n",
       "      <td>75</td>\n",
       "      <td>2015</td>\n",
       "      <td>July</td>\n",
       "      <td>27</td>\n",
       "      <td>1</td>\n",
       "      <td>0</td>\n",
       "      <td>3</td>\n",
       "      <td>2</td>\n",
       "      <td>0.0</td>\n",
       "      <td>0</td>\n",
       "      <td>HB</td>\n",
       "      <td>PRT</td>\n",
       "      <td>Offline TA/TO</td>\n",
       "      <td>TA/TO</td>\n",
       "      <td>0</td>\n",
       "      <td>0</td>\n",
       "      <td>0</td>\n",
       "      <td>D</td>\n",
       "      <td>D</td>\n",
       "      <td>0</td>\n",
       "      <td>No Deposit</td>\n",
       "      <td>15.0</td>\n",
       "      <td>NaN</td>\n",
       "      <td>0</td>\n",
       "      <td>Transient</td>\n",
       "      <td>105.5</td>\n",
       "      <td>0</td>\n",
       "      <td>0</td>\n",
       "      <td>Canceled</td>\n",
       "      <td>2015-04-22</td>\n",
       "    </tr>\n",
       "  </tbody>\n",
       "</table>\n",
       "</div>"
      ],
      "text/plain": [
       "          hotel  is_canceled  lead_time  arrival_date_year arrival_date_month  \\\n",
       "0  Resort Hotel            0        342               2015               July   \n",
       "1  Resort Hotel            0        737               2015               July   \n",
       "2  Resort Hotel            0          7               2015               July   \n",
       "3  Resort Hotel            0         13               2015               July   \n",
       "4  Resort Hotel            0         14               2015               July   \n",
       "5  Resort Hotel            0         14               2015               July   \n",
       "6  Resort Hotel            0          0               2015               July   \n",
       "7  Resort Hotel            0          9               2015               July   \n",
       "8  Resort Hotel            1         85               2015               July   \n",
       "9  Resort Hotel            1         75               2015               July   \n",
       "\n",
       "   arrival_date_week_number  arrival_date_day_of_month  \\\n",
       "0                        27                          1   \n",
       "1                        27                          1   \n",
       "2                        27                          1   \n",
       "3                        27                          1   \n",
       "4                        27                          1   \n",
       "5                        27                          1   \n",
       "6                        27                          1   \n",
       "7                        27                          1   \n",
       "8                        27                          1   \n",
       "9                        27                          1   \n",
       "\n",
       "   stays_in_weekend_nights  stays_in_week_nights  adults  children  babies  \\\n",
       "0                        0                     0       2       0.0       0   \n",
       "1                        0                     0       2       0.0       0   \n",
       "2                        0                     1       1       0.0       0   \n",
       "3                        0                     1       1       0.0       0   \n",
       "4                        0                     2       2       0.0       0   \n",
       "5                        0                     2       2       0.0       0   \n",
       "6                        0                     2       2       0.0       0   \n",
       "7                        0                     2       2       0.0       0   \n",
       "8                        0                     3       2       0.0       0   \n",
       "9                        0                     3       2       0.0       0   \n",
       "\n",
       "  meal country market_segment distribution_channel  is_repeated_guest  \\\n",
       "0   BB     PRT         Direct               Direct                  0   \n",
       "1   BB     PRT         Direct               Direct                  0   \n",
       "2   BB     GBR         Direct               Direct                  0   \n",
       "3   BB     GBR      Corporate            Corporate                  0   \n",
       "4   BB     GBR      Online TA                TA/TO                  0   \n",
       "5   BB     GBR      Online TA                TA/TO                  0   \n",
       "6   BB     PRT         Direct               Direct                  0   \n",
       "7   FB     PRT         Direct               Direct                  0   \n",
       "8   BB     PRT      Online TA                TA/TO                  0   \n",
       "9   HB     PRT  Offline TA/TO                TA/TO                  0   \n",
       "\n",
       "   previous_cancellations  previous_bookings_not_canceled reserved_room_type  \\\n",
       "0                       0                               0                  C   \n",
       "1                       0                               0                  C   \n",
       "2                       0                               0                  A   \n",
       "3                       0                               0                  A   \n",
       "4                       0                               0                  A   \n",
       "5                       0                               0                  A   \n",
       "6                       0                               0                  C   \n",
       "7                       0                               0                  C   \n",
       "8                       0                               0                  A   \n",
       "9                       0                               0                  D   \n",
       "\n",
       "  assigned_room_type  booking_changes deposit_type  agent  company  \\\n",
       "0                  C                3   No Deposit    NaN      NaN   \n",
       "1                  C                4   No Deposit    NaN      NaN   \n",
       "2                  C                0   No Deposit    NaN      NaN   \n",
       "3                  A                0   No Deposit  304.0      NaN   \n",
       "4                  A                0   No Deposit  240.0      NaN   \n",
       "5                  A                0   No Deposit  240.0      NaN   \n",
       "6                  C                0   No Deposit    NaN      NaN   \n",
       "7                  C                0   No Deposit  303.0      NaN   \n",
       "8                  A                0   No Deposit  240.0      NaN   \n",
       "9                  D                0   No Deposit   15.0      NaN   \n",
       "\n",
       "   days_in_waiting_list customer_type    adr  required_car_parking_spaces  \\\n",
       "0                     0     Transient    0.0                            0   \n",
       "1                     0     Transient    0.0                            0   \n",
       "2                     0     Transient   75.0                            0   \n",
       "3                     0     Transient   75.0                            0   \n",
       "4                     0     Transient   98.0                            0   \n",
       "5                     0     Transient   98.0                            0   \n",
       "6                     0     Transient  107.0                            0   \n",
       "7                     0     Transient  103.0                            0   \n",
       "8                     0     Transient   82.0                            0   \n",
       "9                     0     Transient  105.5                            0   \n",
       "\n",
       "   total_of_special_requests reservation_status reservation_status_date  \n",
       "0                          0          Check-Out              2015-07-01  \n",
       "1                          0          Check-Out              2015-07-01  \n",
       "2                          0          Check-Out              2015-07-02  \n",
       "3                          0          Check-Out              2015-07-02  \n",
       "4                          1          Check-Out              2015-07-03  \n",
       "5                          1          Check-Out              2015-07-03  \n",
       "6                          0          Check-Out              2015-07-03  \n",
       "7                          1          Check-Out              2015-07-03  \n",
       "8                          1           Canceled              2015-05-06  \n",
       "9                          0           Canceled              2015-04-22  "
      ]
     },
     "execution_count": 2,
     "metadata": {},
     "output_type": "execute_result"
    }
   ],
   "source": [
    "#Datei einlesen und anzeigen:\n",
    "df = pd.read_csv(\"/Users/carareusch/Desktop/TechsLabTeam2/TechsLabTeam2-3/Data/Raw/Hotel/hotel_bookings.csv\", encoding=\"ISO-8859-1\", sep=',')\n",
    "\n",
    "pd.set_option('display.max_columns', None)\n",
    "df.head(10)\n",
    "#print(df.columns)"
   ]
  },
  {
   "cell_type": "code",
   "execution_count": 3,
   "metadata": {},
   "outputs": [],
   "source": [
    "#Anzahl der Gäste pro Buchung addieren:\n",
    "df[\"total_guest_number\"]= df[\"adults\"]+df[\"children\"]+df[\"babies\"]\n",
    "df[\"duration_of_stay\"]= df[\"stays_in_weekend_nights\"] + df[\"stays_in_week_nights\"]\n",
    "\n",
    "#Data Cleaning\n",
    "df= df[df[\"duration_of_stay\"]!=0]\n",
    "df = df[df[\"total_guest_number\"]!=0]\n",
    "df = df[df[\"is_canceled\"]==0]"
   ]
  },
  {
   "cell_type": "code",
   "execution_count": 4,
   "metadata": {},
   "outputs": [
    {
     "data": {
      "text/plain": [
       "reservation_status\n",
       "Check-Out    74389\n",
       "Name: count, dtype: int64"
      ]
     },
     "execution_count": 4,
     "metadata": {},
     "output_type": "execute_result"
    }
   ],
   "source": [
    "# DataFrame aktualisieren, um Zeilen mit Stornierungen zu entfernen\n",
    "df = df[df['reservation_status'] != 'Canceled']\n",
    "df[\"reservation_status\"].value_counts()\n"
   ]
  },
  {
   "cell_type": "code",
   "execution_count": 5,
   "metadata": {},
   "outputs": [
    {
     "name": "stdout",
     "output_type": "stream",
     "text": [
      "Total number of guests in the Resort Hotel: 55867.0\n",
      "Total number of children in the Resort Hotel: 3040.0\n",
      "Total number of babies in the Resort Hotel: 450\n",
      "Total nubmer of adults in the the Resort Hotel: 52377\n"
     ]
    },
    {
     "name": "stderr",
     "output_type": "stream",
     "text": [
      "/var/folders/pl/4hv3k75x16l4274btx10gcsc0000gn/T/ipykernel_1939/3572926828.py:5: FutureWarning: When grouping with a length-1 list-like, you will need to pass a length-1 tuple to get_group in a future version of pandas. Pass `(name,)` instead of `name` to silence this warning.\n",
      "  resort_total= hotel_grp.get_group(\"Resort Hotel\")[\"total_guest_number\"].sum()\n",
      "/var/folders/pl/4hv3k75x16l4274btx10gcsc0000gn/T/ipykernel_1939/3572926828.py:6: FutureWarning: When grouping with a length-1 list-like, you will need to pass a length-1 tuple to get_group in a future version of pandas. Pass `(name,)` instead of `name` to silence this warning.\n",
      "  resort_children= hotel_grp.get_group(\"Resort Hotel\")[\"children\"].sum()\n",
      "/var/folders/pl/4hv3k75x16l4274btx10gcsc0000gn/T/ipykernel_1939/3572926828.py:7: FutureWarning: When grouping with a length-1 list-like, you will need to pass a length-1 tuple to get_group in a future version of pandas. Pass `(name,)` instead of `name` to silence this warning.\n",
      "  resort_babies= hotel_grp.get_group(\"Resort Hotel\")[\"babies\"].sum()\n",
      "/var/folders/pl/4hv3k75x16l4274btx10gcsc0000gn/T/ipykernel_1939/3572926828.py:8: FutureWarning: When grouping with a length-1 list-like, you will need to pass a length-1 tuple to get_group in a future version of pandas. Pass `(name,)` instead of `name` to silence this warning.\n",
      "  resort_adults=hotel_grp.get_group(\"Resort Hotel\")[\"adults\"].sum()\n"
     ]
    }
   ],
   "source": [
    "#Spalten nach Hotels gruppieren:\n",
    "hotel_grp=df.groupby([\"hotel\"])\n",
    "\n",
    "#Verschiedene Besuchergruppen für das Resort Hotel zählen:\n",
    "resort_total= hotel_grp.get_group(\"Resort Hotel\")[\"total_guest_number\"].sum()\n",
    "resort_children= hotel_grp.get_group(\"Resort Hotel\")[\"children\"].sum()\n",
    "resort_babies= hotel_grp.get_group(\"Resort Hotel\")[\"babies\"].sum()\n",
    "resort_adults=hotel_grp.get_group(\"Resort Hotel\")[\"adults\"].sum()\n",
    "\n",
    "print(\"Total number of guests in the Resort Hotel: \" + str(resort_total))\n",
    "print(\"Total number of children in the Resort Hotel: \" + str(resort_children))\n",
    "print(\"Total number of babies in the Resort Hotel: \" + str(resort_babies))\n",
    "print(\"Total nubmer of adults in the the Resort Hotel: \" + str(resort_adults))"
   ]
  },
  {
   "cell_type": "code",
   "execution_count": 6,
   "metadata": {},
   "outputs": [
    {
     "data": {
      "image/png": "[encoded data removed]",
      "text/plain": [
       "<Figure size 800x600 with 1 Axes>"
      ]
     },
     "metadata": {},
     "output_type": "display_data"
    }
   ],
   "source": [
    "# Daten für das Tortendiagramm\n",
    "labels = ['Children', 'Babies', 'Adults']\n",
    "sizes = [resort_children, resort_babies, resort_adults]\n",
    "colors = ['lightblue', 'lightgreen', 'lightcoral']\n",
    "explode = (0.1, 0, 0)  # Trennung des ersten Segments (Children)\n",
    "\n",
    "# Erstellen des Tortendiagramms\n",
    "plt.figure(figsize=(8, 6))\n",
    "plt.pie(sizes, explode=explode, labels=labels, colors=colors, autopct='%1.1f%%', shadow=True, startangle=140)\n",
    "plt.title('Visitor Distribution in the Resort Hotel')\n",
    "plt.axis('equal')  # Gleichmäßige Aspekte gewährleisten\n",
    "\n",
    "#Speichern:\n",
    "plt.savefig(\"/Users/carareusch/Desktop/TechsLabTeam2/TechsLabTeam2-3/Code/Output/Figures/Visitor_Distribution_Resort 2.jpg\", bbox_inches=\"tight\", dpi=300)\n",
    "\n",
    "# Anzeigen des Diagramms\n",
    "plt.show()"
   ]
  },
  {
   "cell_type": "code",
   "execution_count": 7,
   "metadata": {},
   "outputs": [
    {
     "name": "stdout",
     "output_type": "stream",
     "text": [
      "Total number of guests in the City Hotel: 89017.0\n",
      "Total number of children in the City Hotel: 4604.0\n",
      "Total number of babies in the City Hotel: 325\n",
      "Total nubmer of adults in the the City Hotel: 84088\n"
     ]
    },
    {
     "name": "stderr",
     "output_type": "stream",
     "text": [
      "/var/folders/pl/4hv3k75x16l4274btx10gcsc0000gn/T/ipykernel_1939/768840438.py:2: FutureWarning: When grouping with a length-1 list-like, you will need to pass a length-1 tuple to get_group in a future version of pandas. Pass `(name,)` instead of `name` to silence this warning.\n",
      "  city_total= hotel_grp.get_group(\"City Hotel\")[\"total_guest_number\"].sum()\n",
      "/var/folders/pl/4hv3k75x16l4274btx10gcsc0000gn/T/ipykernel_1939/768840438.py:3: FutureWarning: When grouping with a length-1 list-like, you will need to pass a length-1 tuple to get_group in a future version of pandas. Pass `(name,)` instead of `name` to silence this warning.\n",
      "  city_children= hotel_grp.get_group(\"City Hotel\")[\"children\"].sum()\n",
      "/var/folders/pl/4hv3k75x16l4274btx10gcsc0000gn/T/ipykernel_1939/768840438.py:4: FutureWarning: When grouping with a length-1 list-like, you will need to pass a length-1 tuple to get_group in a future version of pandas. Pass `(name,)` instead of `name` to silence this warning.\n",
      "  city_babies= hotel_grp.get_group(\"City Hotel\")[\"babies\"].sum()\n",
      "/var/folders/pl/4hv3k75x16l4274btx10gcsc0000gn/T/ipykernel_1939/768840438.py:5: FutureWarning: When grouping with a length-1 list-like, you will need to pass a length-1 tuple to get_group in a future version of pandas. Pass `(name,)` instead of `name` to silence this warning.\n",
      "  city_adults=hotel_grp.get_group(\"City Hotel\")[\"adults\"].sum()\n"
     ]
    }
   ],
   "source": [
    "#Verschiedene Besuchergruppen für das City Hotel zählen:\n",
    "city_total= hotel_grp.get_group(\"City Hotel\")[\"total_guest_number\"].sum()\n",
    "city_children= hotel_grp.get_group(\"City Hotel\")[\"children\"].sum()\n",
    "city_babies= hotel_grp.get_group(\"City Hotel\")[\"babies\"].sum()\n",
    "city_adults=hotel_grp.get_group(\"City Hotel\")[\"adults\"].sum()\n",
    "\n",
    "print(\"Total number of guests in the City Hotel: \" + str(city_total))\n",
    "print(\"Total number of children in the City Hotel: \" + str(city_children))\n",
    "print(\"Total number of babies in the City Hotel: \" + str(city_babies))\n",
    "print(\"Total nubmer of adults in the the City Hotel: \" + str(city_adults))"
   ]
  },
  {
   "cell_type": "code",
   "execution_count": 8,
   "metadata": {},
   "outputs": [
    {
     "data": {
      "image/png": "[encoded data removed]",
      "text/plain": [
       "<Figure size 800x600 with 1 Axes>"
      ]
     },
     "metadata": {},
     "output_type": "display_data"
    }
   ],
   "source": [
    "# Daten für das Tortendiagramm\n",
    "labels = ['Children', 'Babies', 'Adults']\n",
    "sizes = [city_children, city_babies, city_adults]\n",
    "colors = ['lightblue', 'lightgreen', 'lightcoral']\n",
    "explode = (0.1, 0, 0)  # Trennung des ersten Segments (Children)\n",
    "\n",
    "# Erstellen des Tortendiagramms\n",
    "plt.figure(figsize=(8, 6))\n",
    "plt.pie(sizes, explode=explode, labels=labels, colors=colors, autopct='%1.1f%%', shadow=True, startangle=140)\n",
    "plt.title('Visitor Distribution in the City Hotel')\n",
    "plt.axis('equal')  # Gleichmäßige Aspekte gewährleisten\n",
    "\n",
    "#Speichern\n",
    "plt.savefig(\"/Users/carareusch/Desktop/TechsLabTeam2/TechsLabTeam2-3/Code/Output/Figures/Visitor_Distribution_City 2.jpg\", bbox_inches=\"tight\", dpi=300)\n",
    "\n",
    "# Anzeigen des Diagramms\n",
    "plt.show()"
   ]
  },
  {
   "cell_type": "code",
   "execution_count": 9,
   "metadata": {},
   "outputs": [
    {
     "name": "stdout",
     "output_type": "stream",
     "text": [
      "The mean number of guests in the City Hotel is: 1.9422032160233893\n",
      "the mean number of guests in the Resort Hotel is 1.9564014567866648\n"
     ]
    },
    {
     "name": "stderr",
     "output_type": "stream",
     "text": [
      "/var/folders/pl/4hv3k75x16l4274btx10gcsc0000gn/T/ipykernel_1939/3145264143.py:2: FutureWarning: When grouping with a length-1 list-like, you will need to pass a length-1 tuple to get_group in a future version of pandas. Pass `(name,)` instead of `name` to silence this warning.\n",
      "  city_mean= hotel_grp.get_group(\"City Hotel\")[\"total_guest_number\"].mean()\n",
      "/var/folders/pl/4hv3k75x16l4274btx10gcsc0000gn/T/ipykernel_1939/3145264143.py:3: FutureWarning: When grouping with a length-1 list-like, you will need to pass a length-1 tuple to get_group in a future version of pandas. Pass `(name,)` instead of `name` to silence this warning.\n",
      "  resort_mean=hotel_grp.get_group(\"Resort Hotel\")[\"total_guest_number\"].mean()\n"
     ]
    }
   ],
   "source": [
    "#Mittelwert für die Gästezahl berechnen:\n",
    "city_mean= hotel_grp.get_group(\"City Hotel\")[\"total_guest_number\"].mean()\n",
    "resort_mean=hotel_grp.get_group(\"Resort Hotel\")[\"total_guest_number\"].mean()\n",
    "\n",
    "print(\"The mean number of guests in the City Hotel is: \" + str(city_mean))\n",
    "print(\"the mean number of guests in the Resort Hotel is \" + str(resort_mean))"
   ]
  },
  {
   "cell_type": "code",
   "execution_count": 10,
   "metadata": {},
   "outputs": [
    {
     "data": {
      "application/vnd.plotly.v1+json": {
       "config": {
        "plotlyServerURL": "https://plot.ly"
       },
       "data": [
        {
         "labels": [
          "Hotel",
          "Resort",
          "City",
          "Resort Babies",
          "Resort Children",
          "Resort Adults",
          "City Babies",
          "City Children",
          "City Adults"
         ],
         "marker": {
          "colors": [
           "rgba(255,255,255,0)",
           "rgba(44,160,101,0.5)",
           "rgba(255,65,54,0.5)",
           "rgba(44,160,101,0.1)",
           "rgba(44,160,101,0.3)",
           "rgba(44,160,101,0.8)",
           "rgba(255,65,54,0.1)",
           "rgba(255,65,54,0.3)",
           "rgba(255,65,54,0.8)"
          ]
         },
         "parents": [
          null,
          "Hotel",
          "Hotel",
          "Resort",
          "Resort",
          "Resort",
          "City",
          "City",
          "City"
         ],
         "type": "sunburst",
         "values": [
          233821,
          79810,
          154011,
          555,
          5120,
          74135,
          389,
          7234,
          146397
         ]
        }
       ],
       "layout": {
        "margin": {
         "b": 50,
         "l": 50,
         "r": 50,
         "t": 50
        },
        "template": {
         "data": {
          "bar": [
           {
            "error_x": {
             "color": "#2a3f5f"
            },
            "error_y": {
             "color": "#2a3f5f"
            },
            "marker": {
             "line": {
              "color": "#E5ECF6",
              "width": 0.5
             },
             "pattern": {
              "fillmode": "overlay",
              "size": 10,
              "solidity": 0.2
             }
            },
            "type": "bar"
           }
          ],
          "barpolar": [
           {
            "marker": {
             "line": {
              "color": "#E5ECF6",
              "width": 0.5
             },
             "pattern": {
              "fillmode": "overlay",
              "size": 10,
              "solidity": 0.2
             }
            },
            "type": "barpolar"
           }
          ],
          "carpet": [
           {
            "aaxis": {
             "endlinecolor": "#2a3f5f",
             "gridcolor": "white",
             "linecolor": "white",
             "minorgridcolor": "white",
             "startlinecolor": "#2a3f5f"
            },
            "baxis": {
             "endlinecolor": "#2a3f5f",
             "gridcolor": "white",
             "linecolor": "white",
             "minorgridcolor": "white",
             "startlinecolor": "#2a3f5f"
            },
            "type": "carpet"
           }
          ],
          "choropleth": [
           {
            "colorbar": {
             "outlinewidth": 0,
             "ticks": ""
            },
            "type": "choropleth"
           }
          ],
          "contour": [
           {
            "colorbar": {
             "outlinewidth": 0,
             "ticks": ""
            },
            "colorscale": [
             [
              0,
              "#0d0887"
             ],
             [
              0.1111111111111111,
              "#46039f"
             ],
             [
              0.2222222222222222,
              "#7201a8"
             ],
             [
              0.3333333333333333,
              "#9c179e"
             ],
             [
              0.4444444444444444,
              "#bd3786"
             ],
             [
              0.5555555555555556,
              "#d8576b"
             ],
             [
              0.6666666666666666,
              "#ed7953"
             ],
             [
              0.7777777777777778,
              "#fb9f3a"
             ],
             [
              0.8888888888888888,
              "#fdca26"
             ],
             [
              1,
              "#f0f921"
             ]
            ],
            "type": "contour"
           }
          ],
          "contourcarpet": [
           {
            "colorbar": {
             "outlinewidth": 0,
             "ticks": ""
            },
            "type": "contourcarpet"
           }
          ],
          "heatmap": [
           {
            "colorbar": {
             "outlinewidth": 0,
             "ticks": ""
            },
            "colorscale": [
             [
              0,
              "#0d0887"
             ],
             [
              0.1111111111111111,
              "#46039f"
             ],
             [
              0.2222222222222222,
              "#7201a8"
             ],
             [
              0.3333333333333333,
              "#9c179e"
             ],
             [
              0.4444444444444444,
              "#bd3786"
             ],
             [
              0.5555555555555556,
              "#d8576b"
             ],
             [
              0.6666666666666666,
              "#ed7953"
             ],
             [
              0.7777777777777778,
              "#fb9f3a"
             ],
             [
              0.8888888888888888,
              "#fdca26"
             ],
             [
              1,
              "#f0f921"
             ]
            ],
            "type": "heatmap"
           }
          ],
          "heatmapgl": [
           {
            "colorbar": {
             "outlinewidth": 0,
             "ticks": ""
            },
            "colorscale": [
             [
              0,
              "#0d0887"
             ],
             [
              0.1111111111111111,
              "#46039f"
             ],
             [
              0.2222222222222222,
              "#7201a8"
             ],
             [
              0.3333333333333333,
              "#9c179e"
             ],
             [
              0.4444444444444444,
              "#bd3786"
             ],
             [
              0.5555555555555556,
              "#d8576b"
             ],
             [
              0.6666666666666666,
              "#ed7953"
             ],
             [
              0.7777777777777778,
              "#fb9f3a"
             ],
             [
              0.8888888888888888,
              "#fdca26"
             ],
             [
              1,
              "#f0f921"
             ]
            ],
            "type": "heatmapgl"
           }
          ],
          "histogram": [
           {
            "marker": {
             "pattern": {
              "fillmode": "overlay",
              "size": 10,
              "solidity": 0.2
             }
            },
            "type": "histogram"
           }
          ],
          "histogram2d": [
           {
            "colorbar": {
             "outlinewidth": 0,
             "ticks": ""
            },
            "colorscale": [
             [
              0,
              "#0d0887"
             ],
             [
              0.1111111111111111,
              "#46039f"
             ],
             [
              0.2222222222222222,
              "#7201a8"
             ],
             [
              0.3333333333333333,
              "#9c179e"
             ],
             [
              0.4444444444444444,
              "#bd3786"
             ],
             [
              0.5555555555555556,
              "#d8576b"
             ],
             [
              0.6666666666666666,
              "#ed7953"
             ],
             [
              0.7777777777777778,
              "#fb9f3a"
             ],
             [
              0.8888888888888888,
              "#fdca26"
             ],
             [
              1,
              "#f0f921"
             ]
            ],
            "type": "histogram2d"
           }
          ],
          "histogram2dcontour": [
           {
            "colorbar": {
             "outlinewidth": 0,
             "ticks": ""
            },
            "colorscale": [
             [
              0,
              "#0d0887"
             ],
             [
              0.1111111111111111,
              "#46039f"
             ],
             [
              0.2222222222222222,
              "#7201a8"
             ],
             [
              0.3333333333333333,
              "#9c179e"
             ],
             [
              0.4444444444444444,
              "#bd3786"
             ],
             [
              0.5555555555555556,
              "#d8576b"
             ],
             [
              0.6666666666666666,
              "#ed7953"
             ],
             [
              0.7777777777777778,
              "#fb9f3a"
             ],
             [
              0.8888888888888888,
              "#fdca26"
             ],
             [
              1,
              "#f0f921"
             ]
            ],
            "type": "histogram2dcontour"
           }
          ],
          "mesh3d": [
           {
            "colorbar": {
             "outlinewidth": 0,
             "ticks": ""
            },
            "type": "mesh3d"
           }
          ],
          "parcoords": [
           {
            "line": {
             "colorbar": {
              "outlinewidth": 0,
              "ticks": ""
             }
            },
            "type": "parcoords"
           }
          ],
          "pie": [
           {
            "automargin": true,
            "type": "pie"
           }
          ],
          "scatter": [
           {
            "fillpattern": {
             "fillmode": "overlay",
             "size": 10,
             "solidity": 0.2
            },
            "type": "scatter"
           }
          ],
          "scatter3d": [
           {
            "line": {
             "colorbar": {
              "outlinewidth": 0,
              "ticks": ""
             }
            },
            "marker": {
             "colorbar": {
              "outlinewidth": 0,
              "ticks": ""
             }
            },
            "type": "scatter3d"
           }
          ],
          "scattercarpet": [
           {
            "marker": {
             "colorbar": {
              "outlinewidth": 0,
              "ticks": ""
             }
            },
            "type": "scattercarpet"
           }
          ],
          "scattergeo": [
           {
            "marker": {
             "colorbar": {
              "outlinewidth": 0,
              "ticks": ""
             }
            },
            "type": "scattergeo"
           }
          ],
          "scattergl": [
           {
            "marker": {
             "colorbar": {
              "outlinewidth": 0,
              "ticks": ""
             }
            },
            "type": "scattergl"
           }
          ],
          "scattermapbox": [
           {
            "marker": {
             "colorbar": {
              "outlinewidth": 0,
              "ticks": ""
             }
            },
            "type": "scattermapbox"
           }
          ],
          "scatterpolar": [
           {
            "marker": {
             "colorbar": {
              "outlinewidth": 0,
              "ticks": ""
             }
            },
            "type": "scatterpolar"
           }
          ],
          "scatterpolargl": [
           {
            "marker": {
             "colorbar": {
              "outlinewidth": 0,
              "ticks": ""
             }
            },
            "type": "scatterpolargl"
           }
          ],
          "scatterternary": [
           {
            "marker": {
             "colorbar": {
              "outlinewidth": 0,
              "ticks": ""
             }
            },
            "type": "scatterternary"
           }
          ],
          "surface": [
           {
            "colorbar": {
             "outlinewidth": 0,
             "ticks": ""
            },
            "colorscale": [
             [
              0,
              "#0d0887"
             ],
             [
              0.1111111111111111,
              "#46039f"
             ],
             [
              0.2222222222222222,
              "#7201a8"
             ],
             [
              0.3333333333333333,
              "#9c179e"
             ],
             [
              0.4444444444444444,
              "#bd3786"
             ],
             [
              0.5555555555555556,
              "#d8576b"
             ],
             [
              0.6666666666666666,
              "#ed7953"
             ],
             [
              0.7777777777777778,
              "#fb9f3a"
             ],
             [
              0.8888888888888888,
              "#fdca26"
             ],
             [
              1,
              "#f0f921"
             ]
            ],
            "type": "surface"
           }
          ],
          "table": [
           {
            "cells": {
             "fill": {
              "color": "#EBF0F8"
             },
             "line": {
              "color": "white"
             }
            },
            "header": {
             "fill": {
              "color": "#C8D4E3"
             },
             "line": {
              "color": "white"
             }
            },
            "type": "table"
           }
          ]
         },
         "layout": {
          "annotationdefaults": {
           "arrowcolor": "#2a3f5f",
           "arrowhead": 0,
           "arrowwidth": 1
          },
          "autotypenumbers": "strict",
          "coloraxis": {
           "colorbar": {
            "outlinewidth": 0,
            "ticks": ""
           }
          },
          "colorscale": {
           "diverging": [
            [
             0,
             "#8e0152"
            ],
            [
             0.1,
             "#c51b7d"
            ],
            [
             0.2,
             "#de77ae"
            ],
            [
             0.3,
             "#f1b6da"
            ],
            [
             0.4,
             "#fde0ef"
            ],
            [
             0.5,
             "#f7f7f7"
            ],
            [
             0.6,
             "#e6f5d0"
            ],
            [
             0.7,
             "#b8e186"
            ],
            [
             0.8,
             "#7fbc41"
            ],
            [
             0.9,
             "#4d9221"
            ],
            [
             1,
             "#276419"
            ]
           ],
           "sequential": [
            [
             0,
             "#0d0887"
            ],
            [
             0.1111111111111111,
             "#46039f"
            ],
            [
             0.2222222222222222,
             "#7201a8"
            ],
            [
             0.3333333333333333,
             "#9c179e"
            ],
            [
             0.4444444444444444,
             "#bd3786"
            ],
            [
             0.5555555555555556,
             "#d8576b"
            ],
            [
             0.6666666666666666,
             "#ed7953"
            ],
            [
             0.7777777777777778,
             "#fb9f3a"
            ],
            [
             0.8888888888888888,
             "#fdca26"
            ],
            [
             1,
             "#f0f921"
            ]
           ],
           "sequentialminus": [
            [
             0,
             "#0d0887"
            ],
            [
             0.1111111111111111,
             "#46039f"
            ],
            [
             0.2222222222222222,
             "#7201a8"
            ],
            [
             0.3333333333333333,
             "#9c179e"
            ],
            [
             0.4444444444444444,
             "#bd3786"
            ],
            [
             0.5555555555555556,
             "#d8576b"
            ],
            [
             0.6666666666666666,
             "#ed7953"
            ],
            [
             0.7777777777777778,
             "#fb9f3a"
            ],
            [
             0.8888888888888888,
             "#fdca26"
            ],
            [
             1,
             "#f0f921"
            ]
           ]
          },
          "colorway": [
           "#636efa",
           "#EF553B",
           "#00cc96",
           "#ab63fa",
           "#FFA15A",
           "#19d3f3",
           "#FF6692",
           "#B6E880",
           "#FF97FF",
           "#FECB52"
          ],
          "font": {
           "color": "#2a3f5f"
          },
          "geo": {
           "bgcolor": "white",
           "lakecolor": "white",
           "landcolor": "#E5ECF6",
           "showlakes": true,
           "showland": true,
           "subunitcolor": "white"
          },
          "hoverlabel": {
           "align": "left"
          },
          "hovermode": "closest",
          "mapbox": {
           "style": "light"
          },
          "paper_bgcolor": "white",
          "plot_bgcolor": "#E5ECF6",
          "polar": {
           "angularaxis": {
            "gridcolor": "white",
            "linecolor": "white",
            "ticks": ""
           },
           "bgcolor": "#E5ECF6",
           "radialaxis": {
            "gridcolor": "white",
            "linecolor": "white",
            "ticks": ""
           }
          },
          "scene": {
           "xaxis": {
            "backgroundcolor": "#E5ECF6",
            "gridcolor": "white",
            "gridwidth": 2,
            "linecolor": "white",
            "showbackground": true,
            "ticks": "",
            "zerolinecolor": "white"
           },
           "yaxis": {
            "backgroundcolor": "#E5ECF6",
            "gridcolor": "white",
            "gridwidth": 2,
            "linecolor": "white",
            "showbackground": true,
            "ticks": "",
            "zerolinecolor": "white"
           },
           "zaxis": {
            "backgroundcolor": "#E5ECF6",
            "gridcolor": "white",
            "gridwidth": 2,
            "linecolor": "white",
            "showbackground": true,
            "ticks": "",
            "zerolinecolor": "white"
           }
          },
          "shapedefaults": {
           "line": {
            "color": "#2a3f5f"
           }
          },
          "ternary": {
           "aaxis": {
            "gridcolor": "white",
            "linecolor": "white",
            "ticks": ""
           },
           "baxis": {
            "gridcolor": "white",
            "linecolor": "white",
            "ticks": ""
           },
           "bgcolor": "#E5ECF6",
           "caxis": {
            "gridcolor": "white",
            "linecolor": "white",
            "ticks": ""
           }
          },
          "title": {
           "x": 0.05
          },
          "xaxis": {
           "automargin": true,
           "gridcolor": "white",
           "linecolor": "white",
           "ticks": "",
           "title": {
            "standoff": 15
           },
           "zerolinecolor": "white",
           "zerolinewidth": 2
          },
          "yaxis": {
           "automargin": true,
           "gridcolor": "white",
           "linecolor": "white",
           "ticks": "",
           "title": {
            "standoff": 15
           },
           "zerolinecolor": "white",
           "zerolinewidth": 2
          }
         }
        },
        "title": {
         "text": "Verteilung der Gäste und Altersgruppen in den Hotels"
        }
       }
      }
     },
     "metadata": {},
     "output_type": "display_data"
    }
   ],
   "source": [
    "\n",
    "hotel_guests= resort_total + city_total\n",
    "\n",
    "# Daten für das Sunburst-Diagramm\n",
    "labels = [ \"Hotel\",'Resort', 'City', 'Resort Babies', 'Resort Children', 'Resort Adults', 'City Babies', 'City Children', 'City Adults']\n",
    "parents = [None, \"Hotel\", \"Hotel\", 'Resort', 'Resort', 'Resort', 'City', 'City', 'City']\n",
    "values = [233821, 79810, 154011, 555, 5120, 74135, 389, 7234, 146397]\n",
    "\n",
    "# Farben für die Sektoren\n",
    "colors = ['rgba(255,255,255,0)',      # Weiß für den äußeren Ring (Hotel)\n",
    "          'rgba(44,160,101,0.5)',     # Grün für Resort Hotel\n",
    "          'rgba(255,65,54,0.5)',      # Rot für City Hotel\n",
    "          'rgba(44,160,101,0.1)',     # Sehr hellgrün für Resort Babies\n",
    "          'rgba(44,160,101,0.3)',     # Hellgrün für Resort Children\n",
    "          'rgba(44,160,101,0.8)',     # Dunkelgrün für Resort Adults\n",
    "          'rgba(255,65,54,0.1)',      # Sehr hellrot für City Babies\n",
    "          'rgba(255,65,54,0.3)',      # Hellrot für City Children\n",
    "          'rgba(255,65,54,0.8)']      # Dunkelot für City Adults\n",
    "\n",
    "# Erstellen des Sunburst-Diagramms\n",
    "fig = go.Figure(go.Sunburst(\n",
    "    labels=labels,\n",
    "    parents=parents,\n",
    "    values=values,\n",
    "    #branchvalues=\"total\",  # Branchvalues: \"total\" zeigt die Summe aller Unterteilungen an\n",
    "    marker=dict(colors=colors),\n",
    "))\n",
    "\n",
    "# Layout-Anpassungen\n",
    "fig.update_layout(\n",
    "    title='Verteilung der Gäste und Altersgruppen in den Hotels',\n",
    "   margin=dict(t=50, l=50, r=50, b=50)) # Anpassen der Ränder\n",
    "\n",
    "# Anzeigen des Diagramms\n",
    "fig.show()"
   ]
  },
  {
   "cell_type": "code",
   "execution_count": 11,
   "metadata": {},
   "outputs": [
    {
     "data": {
      "application/vnd.plotly.v1+json": {
       "config": {
        "plotlyServerURL": "https://plot.ly"
       },
       "data": [
        {
         "branchvalues": "total",
         "customdata": [
          [
           84088
          ],
          [
           52377
          ],
          [
           4929
          ],
          [
           3490
          ],
          [
           89017
          ],
          [
           55867
          ],
          [
           144884
          ]
         ],
         "domain": {
          "x": [
           0,
           1
          ],
          "y": [
           0,
           1
          ]
         },
         "hovertemplate": "labels=%{label}<br>Anzahl=%{customdata[0]}<br>parent=%{parent}<br>id=%{id}<extra></extra>",
         "ids": [
          "Hotel/City/Adults",
          "Hotel/Resort/Adults",
          "Hotel/City/Children & Babies",
          "Hotel/Resort/Children & Babies",
          "Hotel/City",
          "Hotel/Resort",
          "Hotel"
         ],
         "labels": [
          "Adults",
          "Adults",
          "Children & Babies",
          "Children & Babies",
          "City",
          "Resort",
          "Hotel"
         ],
         "name": "",
         "parents": [
          "Hotel/City",
          "Hotel/Resort",
          "Hotel/City",
          "Hotel/Resort",
          "Hotel",
          "Hotel",
          ""
         ],
         "textinfo": "label+value",
         "texttemplate": "%{label}: %{value:.0f}",
         "type": "sunburst",
         "values": [
          84088,
          52377,
          4929,
          3490,
          89017,
          55867,
          144884
         ]
        }
       ],
       "layout": {
        "height": 700,
        "legend": {
         "tracegroupgap": 0
        },
        "sunburstcolorway": [
         "blue",
         "green"
        ],
        "template": {
         "data": {
          "bar": [
           {
            "error_x": {
             "color": "#2a3f5f"
            },
            "error_y": {
             "color": "#2a3f5f"
            },
            "marker": {
             "line": {
              "color": "#E5ECF6",
              "width": 0.5
             },
             "pattern": {
              "fillmode": "overlay",
              "size": 10,
              "solidity": 0.2
             }
            },
            "type": "bar"
           }
          ],
          "barpolar": [
           {
            "marker": {
             "line": {
              "color": "#E5ECF6",
              "width": 0.5
             },
             "pattern": {
              "fillmode": "overlay",
              "size": 10,
              "solidity": 0.2
             }
            },
            "type": "barpolar"
           }
          ],
          "carpet": [
           {
            "aaxis": {
             "endlinecolor": "#2a3f5f",
             "gridcolor": "white",
             "linecolor": "white",
             "minorgridcolor": "white",
             "startlinecolor": "#2a3f5f"
            },
            "baxis": {
             "endlinecolor": "#2a3f5f",
             "gridcolor": "white",
             "linecolor": "white",
             "minorgridcolor": "white",
             "startlinecolor": "#2a3f5f"
            },
            "type": "carpet"
           }
          ],
          "choropleth": [
           {
            "colorbar": {
             "outlinewidth": 0,
             "ticks": ""
            },
            "type": "choropleth"
           }
          ],
          "contour": [
           {
            "colorbar": {
             "outlinewidth": 0,
             "ticks": ""
            },
            "colorscale": [
             [
              0,
              "#0d0887"
             ],
             [
              0.1111111111111111,
              "#46039f"
             ],
             [
              0.2222222222222222,
              "#7201a8"
             ],
             [
              0.3333333333333333,
              "#9c179e"
             ],
             [
              0.4444444444444444,
              "#bd3786"
             ],
             [
              0.5555555555555556,
              "#d8576b"
             ],
             [
              0.6666666666666666,
              "#ed7953"
             ],
             [
              0.7777777777777778,
              "#fb9f3a"
             ],
             [
              0.8888888888888888,
              "#fdca26"
             ],
             [
              1,
              "#f0f921"
             ]
            ],
            "type": "contour"
           }
          ],
          "contourcarpet": [
           {
            "colorbar": {
             "outlinewidth": 0,
             "ticks": ""
            },
            "type": "contourcarpet"
           }
          ],
          "heatmap": [
           {
            "colorbar": {
             "outlinewidth": 0,
             "ticks": ""
            },
            "colorscale": [
             [
              0,
              "#0d0887"
             ],
             [
              0.1111111111111111,
              "#46039f"
             ],
             [
              0.2222222222222222,
              "#7201a8"
             ],
             [
              0.3333333333333333,
              "#9c179e"
             ],
             [
              0.4444444444444444,
              "#bd3786"
             ],
             [
              0.5555555555555556,
              "#d8576b"
             ],
             [
              0.6666666666666666,
              "#ed7953"
             ],
             [
              0.7777777777777778,
              "#fb9f3a"
             ],
             [
              0.8888888888888888,
              "#fdca26"
             ],
             [
              1,
              "#f0f921"
             ]
            ],
            "type": "heatmap"
           }
          ],
          "heatmapgl": [
           {
            "colorbar": {
             "outlinewidth": 0,
             "ticks": ""
            },
            "colorscale": [
             [
              0,
              "#0d0887"
             ],
             [
              0.1111111111111111,
              "#46039f"
             ],
             [
              0.2222222222222222,
              "#7201a8"
             ],
             [
              0.3333333333333333,
              "#9c179e"
             ],
             [
              0.4444444444444444,
              "#bd3786"
             ],
             [
              0.5555555555555556,
              "#d8576b"
             ],
             [
              0.6666666666666666,
              "#ed7953"
             ],
             [
              0.7777777777777778,
              "#fb9f3a"
             ],
             [
              0.8888888888888888,
              "#fdca26"
             ],
             [
              1,
              "#f0f921"
             ]
            ],
            "type": "heatmapgl"
           }
          ],
          "histogram": [
           {
            "marker": {
             "pattern": {
              "fillmode": "overlay",
              "size": 10,
              "solidity": 0.2
             }
            },
            "type": "histogram"
           }
          ],
          "histogram2d": [
           {
            "colorbar": {
             "outlinewidth": 0,
             "ticks": ""
            },
            "colorscale": [
             [
              0,
              "#0d0887"
             ],
             [
              0.1111111111111111,
              "#46039f"
             ],
             [
              0.2222222222222222,
              "#7201a8"
             ],
             [
              0.3333333333333333,
              "#9c179e"
             ],
             [
              0.4444444444444444,
              "#bd3786"
             ],
             [
              0.5555555555555556,
              "#d8576b"
             ],
             [
              0.6666666666666666,
              "#ed7953"
             ],
             [
              0.7777777777777778,
              "#fb9f3a"
             ],
             [
              0.8888888888888888,
              "#fdca26"
             ],
             [
              1,
              "#f0f921"
             ]
            ],
            "type": "histogram2d"
           }
          ],
          "histogram2dcontour": [
           {
            "colorbar": {
             "outlinewidth": 0,
             "ticks": ""
            },
            "colorscale": [
             [
              0,
              "#0d0887"
             ],
             [
              0.1111111111111111,
              "#46039f"
             ],
             [
              0.2222222222222222,
              "#7201a8"
             ],
             [
              0.3333333333333333,
              "#9c179e"
             ],
             [
              0.4444444444444444,
              "#bd3786"
             ],
             [
              0.5555555555555556,
              "#d8576b"
             ],
             [
              0.6666666666666666,
              "#ed7953"
             ],
             [
              0.7777777777777778,
              "#fb9f3a"
             ],
             [
              0.8888888888888888,
              "#fdca26"
             ],
             [
              1,
              "#f0f921"
             ]
            ],
            "type": "histogram2dcontour"
           }
          ],
          "mesh3d": [
           {
            "colorbar": {
             "outlinewidth": 0,
             "ticks": ""
            },
            "type": "mesh3d"
           }
          ],
          "parcoords": [
           {
            "line": {
             "colorbar": {
              "outlinewidth": 0,
              "ticks": ""
             }
            },
            "type": "parcoords"
           }
          ],
          "pie": [
           {
            "automargin": true,
            "type": "pie"
           }
          ],
          "scatter": [
           {
            "fillpattern": {
             "fillmode": "overlay",
             "size": 10,
             "solidity": 0.2
            },
            "type": "scatter"
           }
          ],
          "scatter3d": [
           {
            "line": {
             "colorbar": {
              "outlinewidth": 0,
              "ticks": ""
             }
            },
            "marker": {
             "colorbar": {
              "outlinewidth": 0,
              "ticks": ""
             }
            },
            "type": "scatter3d"
           }
          ],
          "scattercarpet": [
           {
            "marker": {
             "colorbar": {
              "outlinewidth": 0,
              "ticks": ""
             }
            },
            "type": "scattercarpet"
           }
          ],
          "scattergeo": [
           {
            "marker": {
             "colorbar": {
              "outlinewidth": 0,
              "ticks": ""
             }
            },
            "type": "scattergeo"
           }
          ],
          "scattergl": [
           {
            "marker": {
             "colorbar": {
              "outlinewidth": 0,
              "ticks": ""
             }
            },
            "type": "scattergl"
           }
          ],
          "scattermapbox": [
           {
            "marker": {
             "colorbar": {
              "outlinewidth": 0,
              "ticks": ""
             }
            },
            "type": "scattermapbox"
           }
          ],
          "scatterpolar": [
           {
            "marker": {
             "colorbar": {
              "outlinewidth": 0,
              "ticks": ""
             }
            },
            "type": "scatterpolar"
           }
          ],
          "scatterpolargl": [
           {
            "marker": {
             "colorbar": {
              "outlinewidth": 0,
              "ticks": ""
             }
            },
            "type": "scatterpolargl"
           }
          ],
          "scatterternary": [
           {
            "marker": {
             "colorbar": {
              "outlinewidth": 0,
              "ticks": ""
             }
            },
            "type": "scatterternary"
           }
          ],
          "surface": [
           {
            "colorbar": {
             "outlinewidth": 0,
             "ticks": ""
            },
            "colorscale": [
             [
              0,
              "#0d0887"
             ],
             [
              0.1111111111111111,
              "#46039f"
             ],
             [
              0.2222222222222222,
              "#7201a8"
             ],
             [
              0.3333333333333333,
              "#9c179e"
             ],
             [
              0.4444444444444444,
              "#bd3786"
             ],
             [
              0.5555555555555556,
              "#d8576b"
             ],
             [
              0.6666666666666666,
              "#ed7953"
             ],
             [
              0.7777777777777778,
              "#fb9f3a"
             ],
             [
              0.8888888888888888,
              "#fdca26"
             ],
             [
              1,
              "#f0f921"
             ]
            ],
            "type": "surface"
           }
          ],
          "table": [
           {
            "cells": {
             "fill": {
              "color": "#EBF0F8"
             },
             "line": {
              "color": "white"
             }
            },
            "header": {
             "fill": {
              "color": "#C8D4E3"
             },
             "line": {
              "color": "white"
             }
            },
            "type": "table"
           }
          ]
         },
         "layout": {
          "annotationdefaults": {
           "arrowcolor": "#2a3f5f",
           "arrowhead": 0,
           "arrowwidth": 1
          },
          "autotypenumbers": "strict",
          "coloraxis": {
           "colorbar": {
            "outlinewidth": 0,
            "ticks": ""
           }
          },
          "colorscale": {
           "diverging": [
            [
             0,
             "#8e0152"
            ],
            [
             0.1,
             "#c51b7d"
            ],
            [
             0.2,
             "#de77ae"
            ],
            [
             0.3,
             "#f1b6da"
            ],
            [
             0.4,
             "#fde0ef"
            ],
            [
             0.5,
             "#f7f7f7"
            ],
            [
             0.6,
             "#e6f5d0"
            ],
            [
             0.7,
             "#b8e186"
            ],
            [
             0.8,
             "#7fbc41"
            ],
            [
             0.9,
             "#4d9221"
            ],
            [
             1,
             "#276419"
            ]
           ],
           "sequential": [
            [
             0,
             "#0d0887"
            ],
            [
             0.1111111111111111,
             "#46039f"
            ],
            [
             0.2222222222222222,
             "#7201a8"
            ],
            [
             0.3333333333333333,
             "#9c179e"
            ],
            [
             0.4444444444444444,
             "#bd3786"
            ],
            [
             0.5555555555555556,
             "#d8576b"
            ],
            [
             0.6666666666666666,
             "#ed7953"
            ],
            [
             0.7777777777777778,
             "#fb9f3a"
            ],
            [
             0.8888888888888888,
             "#fdca26"
            ],
            [
             1,
             "#f0f921"
            ]
           ],
           "sequentialminus": [
            [
             0,
             "#0d0887"
            ],
            [
             0.1111111111111111,
             "#46039f"
            ],
            [
             0.2222222222222222,
             "#7201a8"
            ],
            [
             0.3333333333333333,
             "#9c179e"
            ],
            [
             0.4444444444444444,
             "#bd3786"
            ],
            [
             0.5555555555555556,
             "#d8576b"
            ],
            [
             0.6666666666666666,
             "#ed7953"
            ],
            [
             0.7777777777777778,
             "#fb9f3a"
            ],
            [
             0.8888888888888888,
             "#fdca26"
            ],
            [
             1,
             "#f0f921"
            ]
           ]
          },
          "colorway": [
           "#636efa",
           "#EF553B",
           "#00cc96",
           "#ab63fa",
           "#FFA15A",
           "#19d3f3",
           "#FF6692",
           "#B6E880",
           "#FF97FF",
           "#FECB52"
          ],
          "font": {
           "color": "#2a3f5f"
          },
          "geo": {
           "bgcolor": "white",
           "lakecolor": "white",
           "landcolor": "#E5ECF6",
           "showlakes": true,
           "showland": true,
           "subunitcolor": "white"
          },
          "hoverlabel": {
           "align": "left"
          },
          "hovermode": "closest",
          "mapbox": {
           "style": "light"
          },
          "paper_bgcolor": "white",
          "plot_bgcolor": "#E5ECF6",
          "polar": {
           "angularaxis": {
            "gridcolor": "white",
            "linecolor": "white",
            "ticks": ""
           },
           "bgcolor": "#E5ECF6",
           "radialaxis": {
            "gridcolor": "white",
            "linecolor": "white",
            "ticks": ""
           }
          },
          "scene": {
           "xaxis": {
            "backgroundcolor": "#E5ECF6",
            "gridcolor": "white",
            "gridwidth": 2,
            "linecolor": "white",
            "showbackground": true,
            "ticks": "",
            "zerolinecolor": "white"
           },
           "yaxis": {
            "backgroundcolor": "#E5ECF6",
            "gridcolor": "white",
            "gridwidth": 2,
            "linecolor": "white",
            "showbackground": true,
            "ticks": "",
            "zerolinecolor": "white"
           },
           "zaxis": {
            "backgroundcolor": "#E5ECF6",
            "gridcolor": "white",
            "gridwidth": 2,
            "linecolor": "white",
            "showbackground": true,
            "ticks": "",
            "zerolinecolor": "white"
           }
          },
          "shapedefaults": {
           "line": {
            "color": "#2a3f5f"
           }
          },
          "ternary": {
           "aaxis": {
            "gridcolor": "white",
            "linecolor": "white",
            "ticks": ""
           },
           "baxis": {
            "gridcolor": "white",
            "linecolor": "white",
            "ticks": ""
           },
           "bgcolor": "#E5ECF6",
           "caxis": {
            "gridcolor": "white",
            "linecolor": "white",
            "ticks": ""
           }
          },
          "title": {
           "x": 0.05
          },
          "xaxis": {
           "automargin": true,
           "gridcolor": "white",
           "linecolor": "white",
           "ticks": "",
           "title": {
            "standoff": 15
           },
           "zerolinecolor": "white",
           "zerolinewidth": 2
          },
          "yaxis": {
           "automargin": true,
           "gridcolor": "white",
           "linecolor": "white",
           "ticks": "",
           "title": {
            "standoff": 15
           },
           "zerolinecolor": "white",
           "zerolinewidth": 2
          }
         }
        },
        "title": {
         "text": "Distribution of Guests by Age Group"
        },
        "width": 900
       }
      }
     },
     "metadata": {},
     "output_type": "display_data"
    }
   ],
   "source": [
    "\n",
    "import plotly.express as px\n",
    "import plotly.io as pio\n",
    "\n",
    "resort_kids = resort_children + resort_babies\n",
    "city_kids = city_children + city_babies\n",
    "\n",
    "# Daten vorbereiten\n",
    "data = {\n",
    "    \"Hotel\": [\"Hotel\", \"Hotel\", \"Hotel\", \"Hotel\"],\n",
    "    \"Branch\": [\"Resort\", \"Resort\", \"City\", \"City\"],\n",
    "    \"Besuchergruppe\": [\"Adults\", \"Children & Babies\", \"Adults\", \"Children & Babies\"],\n",
    "    \"Anzahl\": [ resort_adults, resort_kids, city_adults, city_kids]\n",
    "}\n",
    "\n",
    "# Sunburst-Diagramm erstellen\n",
    "fig = px.sunburst(\n",
    "    data,\n",
    "    path=[\"Hotel\", \"Branch\", \"Besuchergruppe\"],\n",
    "    values=\"Anzahl\",\n",
    "    title=\"Distribution of Guests by Age Group\",\n",
    "    hover_data=[\"Anzahl\"],\n",
    "    color_discrete_sequence=[\"blue\", \"green\"],  # Hier die Farben ändern\n",
    ")\n",
    "\n",
    "\n",
    "# Anzahl als Textlabel anzeigen und Format anpassen\n",
    "fig.update_traces(textinfo=\"label+value\", texttemplate=\"%{label}: %{value:.0f}\")\n",
    "\n",
    "\n",
    "# Diagramm anzeigen und Größe anpassen\n",
    "fig.update_layout(width=900, height=700)\n",
    "\n",
    "# Diagramm als HTML-Datei speichern\n",
    "#fig.write_html(\"/Users/carareusch/Desktop/TechsLabTeam2/TechsLabTeam2-3/Code/Output/Figures/Distribution_of_Hotel_Guests.html\")\n",
    "\n",
    "# Speichern des Diagramms als JPEG mit 300 DPI\n",
    "fig.write_image(\"/Users/carareusch/Desktop/TechsLabTeam2/TechsLabTeam2-3/Code/Output/Figures/Distribution_of_Hotel_Guests 2.jpg\", format=\"jpeg\", scale=3)\n",
    "\n",
    "\n",
    "# Diagramm anzeigen\n",
    "fig.show()\n"
   ]
  },
  {
   "cell_type": "code",
   "execution_count": 12,
   "metadata": {},
   "outputs": [
    {
     "name": "stdout",
     "output_type": "stream",
     "text": [
      "{1: 9, 2: 12, 3: 9, 4: 7, 5: 18, 6: 7, 7: 15, 8: 4, 9: 2}\n",
      "{1: 18, 2: 14, 3: 12, 4: 7, 5: 4, 7: 1, 8: 1, 11: 1}\n"
     ]
    },
    {
     "name": "stderr",
     "output_type": "stream",
     "text": [
      "/var/folders/pl/4hv3k75x16l4274btx10gcsc0000gn/T/ipykernel_1939/2491785351.py:10: FutureWarning:\n",
      "\n",
      "When grouping with a length-1 list-like, you will need to pass a length-1 tuple to get_group in a future version of pandas. Pass `(name,)` instead of `name` to silence this warning.\n",
      "\n",
      "/var/folders/pl/4hv3k75x16l4274btx10gcsc0000gn/T/ipykernel_1939/2491785351.py:16: FutureWarning:\n",
      "\n",
      "When grouping with a length-1 list-like, you will need to pass a length-1 tuple to get_group in a future version of pandas. Pass `(name,)` instead of `name` to silence this warning.\n",
      "\n"
     ]
    }
   ],
   "source": [
    "#Wie lange bleiben Gäste mit Kindern in den Hotels:\n",
    "\n",
    "# Entferne Zeilen mit Null-Werten in den Spalten \"Children\" oder \"Babies\"\n",
    "df_children_only = df[(df['children'] != 0) & (df['babies'] != 0)]\n",
    "\n",
    "#Neuen Dataframe wieder nach Hotels sortieren:\n",
    "hotel_children_grp=df_children_only.groupby([\"hotel\"])\n",
    "\n",
    "#Aufenthalt von Famililien für das Resort Hotel herausfinden:\n",
    "stay_resort = hotel_children_grp.get_group(\"Resort Hotel\")[\"duration_of_stay\"].value_counts().to_dict()\n",
    "\n",
    "sorted_stay_resort = dict(sorted(stay_resort.items()))\n",
    "\n",
    "\n",
    "#Aufenthalt von Familien für das City Hotel herausfinden:\n",
    "stay_city = hotel_children_grp.get_group(\"City Hotel\")[\"duration_of_stay\"].value_counts().to_dict()\n",
    "\n",
    "sorted_stay_city = dict(sorted(stay_city.items()))\n",
    "\n",
    "#Werte ausgeben:\n",
    "print(sorted_stay_resort)\n",
    "print(sorted_stay_city)\n",
    "\n"
   ]
  },
  {
   "cell_type": "code",
   "execution_count": 32,
   "metadata": {},
   "outputs": [
    {
     "data": {
      "image/png": "[encoded data removed]",
      "text/plain": [
       "<Figure size 1000x600 with 1 Axes>"
      ]
     },
     "metadata": {},
     "output_type": "display_data"
    }
   ],
   "source": [
    "#Diagramm für die Aufenthaltsdauer der Familie erstellen:\n",
    "# Daten für das Liniendiagramm\n",
    "x_resort = list(sorted_stay_resort.keys())\n",
    "y_resort = list(sorted_stay_resort.values())\n",
    "\n",
    "x_city = list(sorted_stay_city.keys())\n",
    "y_city = list(sorted_stay_city.values())\n",
    "\n",
    "# Erstellen des Liniendiagramms\n",
    "plt.figure(figsize=(10, 6))\n",
    "plt.plot(x_resort, y_resort, marker='o', label='Resort Hotel')\n",
    "plt.plot(x_city, y_city, marker='o', label='City Hotel')\n",
    "\n",
    "# Diagrammtitel und Achsenbeschriftungen\n",
    "plt.title('Duration of Stay for Families with Children in Hotels')\n",
    "plt.xlabel('Duration of Stay (nights)')\n",
    "plt.ylabel('Number of Families')\n",
    "\n",
    "# Legende anzeigen\n",
    "plt.legend()\n",
    "\n",
    "#Datenpunktbeschriftung hinzufügen:\n",
    "\n",
    "# Annotate x-Werte für Resort Hotel\n",
    "for x, y in zip(x_resort, y_resort):\n",
    "    plt.annotate(f'{y}', (x, y), textcoords=\"offset points\", xytext=(0, 10), ha='center')\n",
    "\n",
    "# Annotate x-Werte für City Hotel\n",
    "for x, y in zip(x_city, y_city):\n",
    "    plt.annotate(f'{y}', (x, y), textcoords=\"offset points\", xytext=(0, 10), ha='center')\n",
    "\n",
    "plt.grid(True)\n",
    "\n",
    "#Speichern:\n",
    "plt.savefig(\"/Users/carareusch/Desktop/TechsLabTeam2/TechsLabTeam2-3/Code/Output/Figures/Duration_of_Stay_Families 2.jpg\", bbox_inches=\"tight\", dpi=300)\n",
    "\n",
    "# Anzeigen des Diagramms\n",
    "plt.show()"
   ]
  },
  {
   "cell_type": "markdown",
   "metadata": {},
   "source": [
    "Welche Monate sind für Familen besonders beliebt?"
   ]
  },
  {
   "cell_type": "code",
   "execution_count": 14,
   "metadata": {},
   "outputs": [
    {
     "name": "stdout",
     "output_type": "stream",
     "text": [
      "{'January': 5, 'February': 6, 'March': 1, 'April': 6, 'May': 8, 'June': 9, 'July': 16, 'August': 20, 'September': 2, 'October': 3, 'November': 2, 'December': 5}\n",
      "{'January': 4, 'February': 7, 'March': 4, 'April': 4, 'May': 0, 'June': 2, 'July': 7, 'August': 16, 'September': 5, 'October': 2, 'November': 0, 'December': 7}\n"
     ]
    },
    {
     "name": "stderr",
     "output_type": "stream",
     "text": [
      "/var/folders/pl/4hv3k75x16l4274btx10gcsc0000gn/T/ipykernel_1939/1150132883.py:6: FutureWarning:\n",
      "\n",
      "When grouping with a length-1 list-like, you will need to pass a length-1 tuple to get_group in a future version of pandas. Pass `(name,)` instead of `name` to silence this warning.\n",
      "\n",
      "/var/folders/pl/4hv3k75x16l4274btx10gcsc0000gn/T/ipykernel_1939/1150132883.py:13: FutureWarning:\n",
      "\n",
      "When grouping with a length-1 list-like, you will need to pass a length-1 tuple to get_group in a future version of pandas. Pass `(name,)` instead of `name` to silence this warning.\n",
      "\n"
     ]
    }
   ],
   "source": [
    "#Welche Monate sind im Resort Hotel beliebt?:\n",
    "\n",
    "# Benutzerdefinierte Sortierreihenfolge für die Monate\n",
    "month_order = ['January', 'February', 'March', 'April', 'May', 'June', 'July', 'August', 'September', 'October', 'November', 'December']\n",
    "\n",
    "month_resort = hotel_children_grp.get_group(\"Resort Hotel\")[\"arrival_date_month\"].value_counts().to_dict()\n",
    "\n",
    "#sorted_month_resort = dict(sorted(month_resort.items(), key=lambda x: x[1], reverse=True))\n",
    "sorted_month_resort = {month: month_resort.get(month, 0) for month in month_order}\n",
    "\n",
    "\n",
    "#Welche Monate sind im City Hotel bliebt?:\n",
    "month_city = hotel_children_grp.get_group(\"City Hotel\")[\"arrival_date_month\"].value_counts().to_dict()\n",
    "\n",
    "#sorted_month_city = dict(sorted(month_city.items(), key=lambda x: x[1], reverse=True))\n",
    "sorted_month_city = {month: month_city.get(month, 0) for month in month_order}\n",
    "\n",
    "\n",
    "#Werte ausgeben:\n",
    "print(sorted_month_resort)\n",
    "print(sorted_month_city)"
   ]
  },
  {
   "cell_type": "code",
   "execution_count": 15,
   "metadata": {},
   "outputs": [
    {
     "data": {
      "image/png": "[encoded data removed]",
      "text/plain": [
       "<Figure size 1000x600 with 1 Axes>"
      ]
     },
     "metadata": {},
     "output_type": "display_data"
    }
   ],
   "source": [
    "# Daten für das Diagramm\n",
    "months_resort = list(sorted_month_resort.keys())\n",
    "families_resort = list(sorted_month_resort.values())\n",
    "\n",
    "months_city = list(sorted_month_city.keys())\n",
    "families_city = list(sorted_month_city.values())\n",
    "\n",
    "# Erstellen des Diagramms\n",
    "plt.figure(figsize=(10, 6)) # Größe des Diagramms anpassen\n",
    "\n",
    "# Positionen für die Balken\n",
    "positions_resort = np.arange(len(months_resort))\n",
    "positions_city = np.arange(len(months_city))\n",
    "\n",
    "# Breite der Balken\n",
    "bar_width = 0.4\n",
    "\n",
    "# Säulendiagramm für das Resort Hotel\n",
    "plt.barh(positions_resort - bar_width/2, families_resort, bar_width, color='green', label='Resort Hotel')\n",
    "\n",
    "# Säulendiagramm für das City Hotel\n",
    "plt.barh(positions_city + bar_width/2, families_city, bar_width, color='purple', label='City Hotel')\n",
    "\n",
    "# Beschriftung der Balken mit den Werten am Ende\n",
    "for i, (month, family) in enumerate(sorted_month_resort.items()):\n",
    "    plt.text(family, i - bar_width/2, str(family), ha='left', va='center')\n",
    "\n",
    "for i, (month, family) in enumerate(sorted_month_city.items()):\n",
    "    plt.text(family, i + bar_width/2, str(family), ha='left', va='center')\n",
    "\n",
    "# Beschriftung der Achsen\n",
    "plt.yticks(np.arange(len(months_resort)), months_resort)\n",
    "plt.xlabel('Number of Families')\n",
    "plt.ylabel('Month')\n",
    "plt.title('Number of Families per Month')\n",
    "plt.legend()\n",
    "\n",
    "#Umkehren der X-Achse (Damit das Diagramm nicht im Dezember beginnt)\n",
    "plt.gca().invert_yaxis()\n",
    "\n",
    "#Speichern:\n",
    "plt.savefig(\"/Users/carareusch/Desktop/TechsLabTeam2/TechsLabTeam2-3/Code/Output/Figures/Families_per_month 2.jpg\", bbox_inches=\"tight\", dpi=300)\n",
    "\n",
    "# Diagramm anzeigen\n",
    "plt.show()"
   ]
  },
  {
   "cell_type": "code",
   "execution_count": 31,
   "metadata": {},
   "outputs": [
    {
     "name": "stdout",
     "output_type": "stream",
     "text": [
      "Gesamtverteilung der Familien im Resort Hotel:\n",
      "country\n",
      "PRT    33\n",
      "ESP    15\n",
      "GBR    10\n",
      "FRA     9\n",
      "IRL     3\n",
      "CHE     3\n",
      "BRA     2\n",
      "POL     2\n",
      "RUS     1\n",
      "NOR     1\n",
      "MKD     1\n",
      "NGA     1\n",
      "GIB     1\n",
      "ITA     1\n",
      "Name: count, dtype: int64\n",
      "Gesamtverteilung der Familien im City Hotel:\n",
      "country\n",
      "PRT    31\n",
      "FRA     6\n",
      "ITA     5\n",
      "ESP     5\n",
      "BRA     2\n",
      "MAR     1\n",
      "GBR     1\n",
      "ROU     1\n",
      "DEU     1\n",
      "FIN     1\n",
      "IND     1\n",
      "EST     1\n",
      "JPN     1\n",
      "CN      1\n",
      "Name: count, dtype: int64\n",
      "City Hotel Gäste im Dezember:\n",
      "country\n",
      "PRT    5\n",
      "FRA    1\n",
      "ITA    1\n",
      "Name: count, dtype: int64\n",
      "Resort Hotel Familien im Mai:\n",
      "country\n",
      "PRT    3\n",
      "GBR    3\n",
      "ESP    1\n",
      "ITA    1\n",
      "Name: count, dtype: int64\n",
      "Resort Hotel Familien im Juni:\n",
      "country\n",
      "PRT    3\n",
      "GBR    3\n",
      "ESP    2\n",
      "CHE    1\n",
      "Name: count, dtype: int64\n",
      "Resort Hotel Familien im Juli:\n",
      "country\n",
      "PRT    7\n",
      "CHE    2\n",
      "ESP    2\n",
      "NOR    1\n",
      "BRA    1\n",
      "GIB    1\n",
      "FRA    1\n",
      "GBR    1\n",
      "Name: count, dtype: int64\n",
      "Resort Hotel Familien im August:\n",
      "country\n",
      "PRT    10\n",
      "ESP     3\n",
      "FRA     3\n",
      "GBR     2\n",
      "RUS     1\n",
      "IRL     1\n",
      "Name: count, dtype: int64\n"
     ]
    },
    {
     "name": "stderr",
     "output_type": "stream",
     "text": [
      "/var/folders/pl/4hv3k75x16l4274btx10gcsc0000gn/T/ipykernel_1939/2060691602.py:3: FutureWarning:\n",
      "\n",
      "When grouping with a length-1 list-like, you will need to pass a length-1 tuple to get_group in a future version of pandas. Pass `(name,)` instead of `name` to silence this warning.\n",
      "\n",
      "/var/folders/pl/4hv3k75x16l4274btx10gcsc0000gn/T/ipykernel_1939/2060691602.py:4: FutureWarning:\n",
      "\n",
      "When grouping with a length-1 list-like, you will need to pass a length-1 tuple to get_group in a future version of pandas. Pass `(name,)` instead of `name` to silence this warning.\n",
      "\n",
      "/var/folders/pl/4hv3k75x16l4274btx10gcsc0000gn/T/ipykernel_1939/2060691602.py:12: UserWarning:\n",
      "\n",
      "Boolean Series key will be reindexed to match DataFrame index.\n",
      "\n",
      "/var/folders/pl/4hv3k75x16l4274btx10gcsc0000gn/T/ipykernel_1939/2060691602.py:23: UserWarning:\n",
      "\n",
      "Boolean Series key will be reindexed to match DataFrame index.\n",
      "\n",
      "/var/folders/pl/4hv3k75x16l4274btx10gcsc0000gn/T/ipykernel_1939/2060691602.py:24: UserWarning:\n",
      "\n",
      "Boolean Series key will be reindexed to match DataFrame index.\n",
      "\n",
      "/var/folders/pl/4hv3k75x16l4274btx10gcsc0000gn/T/ipykernel_1939/2060691602.py:25: UserWarning:\n",
      "\n",
      "Boolean Series key will be reindexed to match DataFrame index.\n",
      "\n",
      "/var/folders/pl/4hv3k75x16l4274btx10gcsc0000gn/T/ipykernel_1939/2060691602.py:26: UserWarning:\n",
      "\n",
      "Boolean Series key will be reindexed to match DataFrame index.\n",
      "\n"
     ]
    }
   ],
   "source": [
    "#Aus welchen Ländern kommen die Familien?\n",
    "\n",
    "country_resort = hotel_children_grp.get_group(\"Resort Hotel\")[\"country\"].value_counts()\n",
    "country_city = hotel_children_grp.get_group(\"City Hotel\")[\"country\"].value_counts()\n",
    "\n",
    "print(\"Gesamtverteilung der Familien im Resort Hotel:\")\n",
    "print(country_resort)\n",
    "print(\"Gesamtverteilung der Familien im City Hotel:\")\n",
    "print(country_city)\n",
    "\n",
    "# Filtere den DataFrame für das City Hotel und den gewünschten Monat\n",
    "city_hotel_month_filtered = df_children_only[(df['hotel'] == 'City Hotel') & (df['arrival_date_month'] == 'December')]\n",
    "\n",
    "# Führe value_counts() für die \"country\"-Spalte durch\n",
    "country_city_december = city_hotel_month_filtered[\"country\"].value_counts()\n",
    "\n",
    "\n",
    "#Gib die Ergebnisse aus\n",
    "print(\"City Hotel Gäste im Dezember:\")\n",
    "print(country_city_december)\n",
    "\n",
    "# Filtere den DataFrame für das Resort Hotel und den gewünschten Monaten:\n",
    "resort_hotel_may_filtered = df_children_only[(df['hotel'] == 'Resort Hotel') & (df['arrival_date_month'] == 'May')]\n",
    "resort_hotel_june_filtered = df_children_only[(df['hotel'] == 'Resort Hotel') & (df['arrival_date_month'] == 'June')]\n",
    "resort_hotel_july_filtered = df_children_only[(df['hotel'] == 'Resort Hotel') & (df['arrival_date_month'] == 'July')]\n",
    "resort_hotel_august_filtered = df_children_only[(df['hotel'] == 'Resort Hotel') & (df['arrival_date_month'] == 'August')]\n",
    "\n",
    "# Führe value_counts() für die \"country\"-Spalte durch\n",
    "resort_hotel_may = resort_hotel_may_filtered[\"country\"].value_counts()\n",
    "resort_hotel_june = resort_hotel_june_filtered[\"country\"].value_counts()\n",
    "resort_hotel_july = resort_hotel_july_filtered[\"country\"].value_counts()\n",
    "resort_hotel_august= resort_hotel_august_filtered[\"country\"].value_counts()\n",
    "\n",
    "print(\"Resort Hotel Familien im Mai:\")\n",
    "print(resort_hotel_may)\n",
    "print(\"Resort Hotel Familien im Juni:\")\n",
    "print(resort_hotel_june)\n",
    "print(\"Resort Hotel Familien im Juli:\")\n",
    "print(resort_hotel_july)\n",
    "print(\"Resort Hotel Familien im August:\")\n",
    "print(resort_hotel_august)\n"
   ]
  },
  {
   "cell_type": "code",
   "execution_count": 16,
   "metadata": {},
   "outputs": [
    {
     "name": "stdout",
     "output_type": "stream",
     "text": [
      "Anzahl der Buchungen mit nur einer Person im Resort Hotel: 5726\n",
      "Anzahl der Buchungen mit nur einer Person mit im City Hotel: 10107\n",
      "Resort Hotel: adults\n",
      "2    19465\n",
      "1     5726\n",
      "3      838\n",
      "4       20\n",
      "Name: count, dtype: int64\n",
      " City Hotel: adults\n",
      "2    29290\n",
      "1    10107\n",
      "3     2885\n",
      "4       24\n",
      "Name: count, dtype: int64\n"
     ]
    }
   ],
   "source": [
    "#Wie verhalten sich die Buchungen ohne Kinder?\n",
    "\n",
    "#Dataframe anpassen, damit alle Buchungen mit Kindern oder babies wegfallen:\n",
    "df_without_children = df[(df['children'] == 0) & (df['babies'] == 0) & (df[\"adults\"] != 0)] #zusätzlich alle Buchungen rausnehmen, in denen adults null sind, da haben wir offenbar keine Werte\n",
    "\n",
    "# DataFrame nach der Spalte \"Hotel\" gruppieren\n",
    "hotel_grp_adults = df_without_children.groupby(\"hotel\")\n",
    "\n",
    "\n",
    "#Wie viele Buchungen mit nur einer Person (Dienstreise?) gibt es im Hotel?\n",
    "# Zählen, wie oft die Zahl 1 in der Spalte \"adults\" für jedes Hotel separat vorkommt\n",
    "adults_count_resort_one = hotel_grp_adults.get_group(\"Resort Hotel\")[\"adults\"].value_counts().get(1, 0)\n",
    "adults_count_city_one = hotel_grp_adults.get_group(\"City Hotel\")[\"adults\"].value_counts().get(1, 0)\n",
    "\n",
    "# Ausgabe der Ergebnisse\n",
    "print(\"Anzahl der Buchungen mit nur einer Person im Resort Hotel:\", adults_count_resort_one)\n",
    "print(\"Anzahl der Buchungen mit nur einer Person mit im City Hotel:\", adults_count_city_one)\n",
    "\n",
    "#Wie verhalten sich die Buchungen in Bezug auf die Anzahl von Erwachsenen Personen insgesamt?\n",
    "adults_count_resort = hotel_grp_adults.get_group(\"Resort Hotel\")[\"adults\"].value_counts()\n",
    "adults_count_city = hotel_grp_adults.get_group(\"City Hotel\")[\"adults\"].value_counts()\n",
    "\n",
    "# Ausgabe der Ergebnisse\n",
    "print(\"Resort Hotel:\", adults_count_resort)\n",
    "print(\" City Hotel:\", adults_count_city)\n",
    "\n",
    "\n",
    "\n"
   ]
  },
  {
   "cell_type": "code",
   "execution_count": 17,
   "metadata": {},
   "outputs": [
    {
     "data": {
      "text/html": [
       "<div>\n",
       "<style scoped>\n",
       "    .dataframe tbody tr th:only-of-type {\n",
       "        vertical-align: middle;\n",
       "    }\n",
       "\n",
       "    .dataframe tbody tr th {\n",
       "        vertical-align: top;\n",
       "    }\n",
       "\n",
       "    .dataframe thead th {\n",
       "        text-align: right;\n",
       "    }\n",
       "</style>\n",
       "<table border=\"1\" class=\"dataframe\">\n",
       "  <thead>\n",
       "    <tr style=\"text-align: right;\">\n",
       "      <th></th>\n",
       "      <th>hotel</th>\n",
       "      <th>is_canceled</th>\n",
       "      <th>lead_time</th>\n",
       "      <th>arrival_date_year</th>\n",
       "      <th>arrival_date_month</th>\n",
       "      <th>arrival_date_week_number</th>\n",
       "      <th>arrival_date_day_of_month</th>\n",
       "      <th>stays_in_weekend_nights</th>\n",
       "      <th>stays_in_week_nights</th>\n",
       "      <th>adults</th>\n",
       "      <th>children</th>\n",
       "      <th>babies</th>\n",
       "      <th>meal</th>\n",
       "      <th>country</th>\n",
       "      <th>market_segment</th>\n",
       "      <th>distribution_channel</th>\n",
       "      <th>is_repeated_guest</th>\n",
       "      <th>previous_cancellations</th>\n",
       "      <th>previous_bookings_not_canceled</th>\n",
       "      <th>reserved_room_type</th>\n",
       "      <th>assigned_room_type</th>\n",
       "      <th>booking_changes</th>\n",
       "      <th>deposit_type</th>\n",
       "      <th>agent</th>\n",
       "      <th>company</th>\n",
       "      <th>days_in_waiting_list</th>\n",
       "      <th>customer_type</th>\n",
       "      <th>adr</th>\n",
       "      <th>required_car_parking_spaces</th>\n",
       "      <th>total_of_special_requests</th>\n",
       "      <th>reservation_status</th>\n",
       "      <th>reservation_status_date</th>\n",
       "      <th>total_guest_number</th>\n",
       "      <th>duration_of_stay</th>\n",
       "    </tr>\n",
       "  </thead>\n",
       "  <tbody>\n",
       "  </tbody>\n",
       "</table>\n",
       "</div>"
      ],
      "text/plain": [
       "Empty DataFrame\n",
       "Columns: [hotel, is_canceled, lead_time, arrival_date_year, arrival_date_month, arrival_date_week_number, arrival_date_day_of_month, stays_in_weekend_nights, stays_in_week_nights, adults, children, babies, meal, country, market_segment, distribution_channel, is_repeated_guest, previous_cancellations, previous_bookings_not_canceled, reserved_room_type, assigned_room_type, booking_changes, deposit_type, agent, company, days_in_waiting_list, customer_type, adr, required_car_parking_spaces, total_of_special_requests, reservation_status, reservation_status_date, total_guest_number, duration_of_stay]\n",
       "Index: []"
      ]
     },
     "metadata": {},
     "output_type": "display_data"
    }
   ],
   "source": [
    "# Liste der ungewöhnlichen Werte für Erwachsene im Resort Hotel\n",
    "unusual_values_resort = [26, 27, 20, 40, 55, 10, 50]\n",
    "\n",
    "# Extrahiere die Zeilen mit ungewöhnlichen Werten für Erwachsene im Resort Hotel\n",
    "unusual_bookings_resort = df_without_children[(df_without_children['hotel'] == 'Resort Hotel') & (df_without_children['adults'].isin(unusual_values_resort))]\n",
    "\n",
    "# Zeige die extrahierten Zeilen\n",
    "display(unusual_bookings_resort)"
   ]
  }
 ],
 "metadata": {
  "kernelspec": {
   "display_name": "Python 3",
   "language": "python",
   "name": "python3"
  },
  "language_info": {
   "codemirror_mode": {
    "name": "ipython",
    "version": 3
   },
   "file_extension": ".py",
   "mimetype": "text/x-python",
   "name": "python",
   "nbconvert_exporter": "python",
   "pygments_lexer": "ipython3",
   "version": "3.12.1"
  }
 },
 "nbformat": 4,
 "nbformat_minor": 2
}
